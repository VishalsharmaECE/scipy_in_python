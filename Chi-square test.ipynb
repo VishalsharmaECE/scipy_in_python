{
 "cells": [
  {
   "cell_type": "code",
   "execution_count": 13,
   "id": "b79a59f5",
   "metadata": {},
   "outputs": [
    {
     "name": "stdout",
     "output_type": "stream",
     "text": [
      "Requirement already satisfied: scipy in c:\\users\\visha\\anaconda3\\lib\\site-packages (1.6.2)\n",
      "Requirement already satisfied: numpy<1.23.0,>=1.16.5 in c:\\users\\visha\\anaconda3\\lib\\site-packages (from scipy) (1.20.1)\n",
      "Note: you may need to restart the kernel to use updated packages.\n"
     ]
    }
   ],
   "source": [
    "pip install scipy"
   ]
  },
  {
   "cell_type": "code",
   "execution_count": 14,
   "id": "9a80e279",
   "metadata": {},
   "outputs": [],
   "source": [
    "import scipy.stats as stat\n",
    "import numpy as np "
   ]
  },
  {
   "cell_type": "code",
   "execution_count": 15,
   "id": "fe17c1bd",
   "metadata": {},
   "outputs": [],
   "source": [
    "#Quantity of milk purchased everyday \n",
    "\n",
    "expected_value = [100, 120, 110, 85, 70, 90, 50]\n",
    "observed_value = [115, 110, 80, 50, 80, 120, 70]"
   ]
  },
  {
   "cell_type": "code",
   "execution_count": 16,
   "id": "14253119",
   "metadata": {},
   "outputs": [
    {
     "data": {
      "text/plain": [
       "(625, 625)"
      ]
     },
     "execution_count": 16,
     "metadata": {},
     "output_type": "execute_result"
    }
   ],
   "source": [
    "sum(expected_value), sum(observed_value)"
   ]
  },
  {
   "cell_type": "code",
   "execution_count": 17,
   "id": "6f22a551",
   "metadata": {},
   "outputs": [],
   "source": [
    "#Chi-square Goodness of fit test\n",
    "chisquare_test_statistics, p_value  = stat.chisquare(observed_value, expected_value)"
   ]
  },
  {
   "cell_type": "code",
   "execution_count": 18,
   "id": "5d103368",
   "metadata": {},
   "outputs": [
    {
     "data": {
      "text/plain": [
       "(45.105487649605294, 4.459672966342466e-08)"
      ]
     },
     "execution_count": 18,
     "metadata": {},
     "output_type": "execute_result"
    }
   ],
   "source": [
    "chisquare_test_statistics, p_value"
   ]
  },
  {
   "cell_type": "code",
   "execution_count": 22,
   "id": "da388067",
   "metadata": {},
   "outputs": [
    {
     "name": "stdout",
     "output_type": "stream",
     "text": [
      "6\n"
     ]
    }
   ],
   "source": [
    "#find the critical value \n",
    "\n",
    "significance_value = 0.05\n",
    "dof = len(observed_value) - 1\n",
    "print(dof)\n",
    "critical_value = stat.chi2.ppf(1 - significance_value, dof)"
   ]
  },
  {
   "cell_type": "code",
   "execution_count": 23,
   "id": "1fb1a0e1",
   "metadata": {},
   "outputs": [
    {
     "data": {
      "text/plain": [
       "12.591587243743977"
      ]
     },
     "execution_count": 23,
     "metadata": {},
     "output_type": "execute_result"
    }
   ],
   "source": [
    "critical_value "
   ]
  },
  {
   "cell_type": "code",
   "execution_count": 24,
   "id": "bc13be14",
   "metadata": {},
   "outputs": [
    {
     "name": "stdout",
     "output_type": "stream",
     "text": [
      "We reject the null hypothesis\n"
     ]
    }
   ],
   "source": [
    "if chisquare_test_statistics > critical_value :\n",
    "    print(\"We reject the null hypothesis\")\n",
    "else:\n",
    "    print(\"We fail to reject null hypothesis\")\n",
    "    "
   ]
  },
  {
   "cell_type": "code",
   "execution_count": null,
   "id": "e6b29943",
   "metadata": {},
   "outputs": [],
   "source": []
  }
 ],
 "metadata": {
  "kernelspec": {
   "display_name": "Python 3",
   "language": "python",
   "name": "python3"
  },
  "language_info": {
   "codemirror_mode": {
    "name": "ipython",
    "version": 3
   },
   "file_extension": ".py",
   "mimetype": "text/x-python",
   "name": "python",
   "nbconvert_exporter": "python",
   "pygments_lexer": "ipython3",
   "version": "3.8.8"
  }
 },
 "nbformat": 4,
 "nbformat_minor": 5
}
